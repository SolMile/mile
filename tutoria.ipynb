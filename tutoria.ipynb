{
  "nbformat": 4,
  "nbformat_minor": 0,
  "metadata": {
    "colab": {
      "provenance": [],
      "authorship_tag": "ABX9TyNvUsujZdwBmXAaGGQgGQdw",
      "include_colab_link": true
    },
    "kernelspec": {
      "name": "python3",
      "display_name": "Python 3"
    },
    "language_info": {
      "name": "python"
    }
  },
  "cells": [
    {
      "cell_type": "markdown",
      "metadata": {
        "id": "view-in-github",
        "colab_type": "text"
      },
      "source": [
        "<a href=\"https://colab.research.google.com/github/SolMile/mile/blob/main/tutoria.ipynb\" target=\"_parent\"><img src=\"https://colab.research.google.com/assets/colab-badge.svg\" alt=\"Open In Colab\"/></a>"
      ]
    },
    {
      "cell_type": "code",
      "execution_count": 3,
      "metadata": {
        "colab": {
          "base_uri": "https://localhost:8080/"
        },
        "id": "8sTo32tK0iu5",
        "outputId": "250cd5d0-610f-4bc8-973b-27da9f670601"
      },
      "outputs": [
        {
          "output_type": "stream",
          "name": "stdout",
          "text": [
            "Python 3.10.12\n"
          ]
        }
      ],
      "source": [
        "!python --version\n",
        "import numpy as np"
      ]
    },
    {
      "cell_type": "code",
      "source": [
        "mile=np.array([3,33,333])\n",
        "print(mile)\n",
        "#ver dimension\n",
        "print(mile.shape)\n",
        "#indice es localizacion\n"
      ],
      "metadata": {
        "colab": {
          "base_uri": "https://localhost:8080/"
        },
        "id": "XWWYNqi-01by",
        "outputId": "4a7e8f40-582f-4f94-e48e-865cec5c7748"
      },
      "execution_count": 8,
      "outputs": [
        {
          "output_type": "stream",
          "name": "stdout",
          "text": [
            "[  3  33 333]\n",
            "(3,)\n"
          ]
        }
      ]
    },
    {
      "cell_type": "code",
      "source": [
        "b=np.zeros((4,6))\n",
        "b\n",
        "print(b.shape)\n",
        "print(b)\n",
        "b[3,3]=123\n",
        "print(b)\n",
        "print(b[:,[2,3]])\n",
        "\n",
        "print(b[:,[3,2]])"
      ],
      "metadata": {
        "colab": {
          "base_uri": "https://localhost:8080/"
        },
        "id": "7nVlKGZP2-O0",
        "outputId": "24d50f4e-09b0-46f4-82f0-4be714a2ef7a"
      },
      "execution_count": 13,
      "outputs": [
        {
          "output_type": "stream",
          "name": "stdout",
          "text": [
            "(4, 6)\n",
            "[[0. 0. 0. 0. 0. 0.]\n",
            " [0. 0. 0. 0. 0. 0.]\n",
            " [0. 0. 0. 0. 0. 0.]\n",
            " [0. 0. 0. 0. 0. 0.]]\n",
            "[[  0.   0.   0.   0.   0.   0.]\n",
            " [  0.   0.   0.   0.   0.   0.]\n",
            " [  0.   0.   0.   0.   0.   0.]\n",
            " [  0.   0.   0. 123.   0.   0.]]\n",
            "[[  0.   0.]\n",
            " [  0.   0.]\n",
            " [  0.   0.]\n",
            " [  0. 123.]]\n",
            "[[  0.   0.]\n",
            " [  0.   0.]\n",
            " [  0.   0.]\n",
            " [123.   0.]]\n"
          ]
        }
      ]
    },
    {
      "cell_type": "code",
      "source": [
        "c=np.random.randint(low=4,high=12,size=(4,5))\n",
        "c\n",
        "#print(c)"
      ],
      "metadata": {
        "colab": {
          "base_uri": "https://localhost:8080/"
        },
        "id": "xKm79YEH36ui",
        "outputId": "e0edd05d-b22e-42a3-8696-251611166862"
      },
      "execution_count": 17,
      "outputs": [
        {
          "output_type": "execute_result",
          "data": {
            "text/plain": [
              "array([[10, 11,  4, 11,  6],\n",
              "       [ 4,  9, 11,  4,  5],\n",
              "       [11,  8,  4,  6,  6],\n",
              "       [ 8, 10, 10, 10,  7]])"
            ]
          },
          "metadata": {},
          "execution_count": 17
        }
      ]
    },
    {
      "cell_type": "code",
      "source": [
        "c=np.random.randint(low=4,high=12,size=(2,2))\n",
        "d=np.random.randint(low=1,high=8,size=(2,2))\n",
        "\n",
        "\n"
      ],
      "metadata": {
        "id": "a1GGt0684p_3"
      },
      "execution_count": 23,
      "outputs": []
    },
    {
      "cell_type": "code",
      "source": [
        "c"
      ],
      "metadata": {
        "colab": {
          "base_uri": "https://localhost:8080/"
        },
        "id": "V6dQYNTO46Zm",
        "outputId": "5e4531e0-5d92-4753-d4ba-bf6b0b927089"
      },
      "execution_count": 20,
      "outputs": [
        {
          "output_type": "execute_result",
          "data": {
            "text/plain": [
              "array([[ 7,  4],\n",
              "       [ 6, 10]])"
            ]
          },
          "metadata": {},
          "execution_count": 20
        }
      ]
    },
    {
      "cell_type": "code",
      "source": [
        "d"
      ],
      "metadata": {
        "colab": {
          "base_uri": "https://localhost:8080/"
        },
        "id": "d1FecfDw49US",
        "outputId": "6da92043-e0e3-4b39-ca01-73d632e53949"
      },
      "execution_count": 24,
      "outputs": [
        {
          "output_type": "execute_result",
          "data": {
            "text/plain": [
              "array([[1, 6],\n",
              "       [7, 6]])"
            ]
          },
          "metadata": {},
          "execution_count": 24
        }
      ]
    },
    {
      "cell_type": "code",
      "source": [
        "#vertical\n",
        "aux=np.vstack((c,d))\n",
        "print(aux)"
      ],
      "metadata": {
        "colab": {
          "base_uri": "https://localhost:8080/"
        },
        "id": "OGv9IM415PM8",
        "outputId": "78458b98-652d-4f2e-b635-282d1df27d5b"
      },
      "execution_count": 25,
      "outputs": [
        {
          "output_type": "stream",
          "name": "stdout",
          "text": [
            "[[11  7]\n",
            " [ 4 10]\n",
            " [ 1  6]\n",
            " [ 7  6]]\n"
          ]
        }
      ]
    },
    {
      "cell_type": "code",
      "source": [
        "#horizontal\n",
        "aux=np.hstack((c,d))\n",
        "print(aux)"
      ],
      "metadata": {
        "colab": {
          "base_uri": "https://localhost:8080/"
        },
        "id": "TTjYL4AM5YBE",
        "outputId": "6efaf13a-2e37-478f-b800-02bdfe1d4513"
      },
      "execution_count": 26,
      "outputs": [
        {
          "output_type": "stream",
          "name": "stdout",
          "text": [
            "[[11  7  1  6]\n",
            " [ 4 10  7  6]]\n"
          ]
        }
      ]
    },
    {
      "cell_type": "code",
      "source": [
        "c=np.random.randint(low=4,high=12,size=(9))\n",
        "print(c)\n",
        "print(c.shape)"
      ],
      "metadata": {
        "colab": {
          "base_uri": "https://localhost:8080/"
        },
        "id": "9y2qHYDp5OE-",
        "outputId": "40d50cb4-069a-47a1-9528-c83d81e7bfb2"
      },
      "execution_count": 27,
      "outputs": [
        {
          "output_type": "stream",
          "name": "stdout",
          "text": [
            "[ 7 11  9  9  7  9  9 10  7]\n",
            "(9,)\n"
          ]
        }
      ]
    },
    {
      "cell_type": "code",
      "source": [],
      "metadata": {
        "id": "ASrKBOML4-Jf"
      },
      "execution_count": null,
      "outputs": []
    }
  ]
}